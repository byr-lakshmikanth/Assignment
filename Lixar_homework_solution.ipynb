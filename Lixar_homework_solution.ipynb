{
 "cells": [
  {
   "cell_type": "code",
   "execution_count": 2,
   "metadata": {},
   "outputs": [],
   "source": [
    "from pyspark.sql import SparkSession"
   ]
  },
  {
   "cell_type": "code",
   "execution_count": 3,
   "metadata": {},
   "outputs": [],
   "source": [
    "spark = SparkSession.builder \\\n",
    "        .appName('Retailer Dataframe') \\\n",
    "        .master('local') \\\n",
    "        .getOrCreate()"
   ]
  },
  {
   "cell_type": "code",
   "execution_count": 4,
   "metadata": {},
   "outputs": [],
   "source": [
    "from pyspark.sql.types import (\n",
    "    TimestampType,\n",
    "    StringType,\n",
    "    IntegerType,\n",
    "    StructType,\n",
    "    StructField\n",
    ")"
   ]
  },
  {
   "cell_type": "code",
   "execution_count": 5,
   "metadata": {},
   "outputs": [],
   "source": [
    "# create schema \n",
    "sch = StructType(\n",
    "                    [StructField('index', IntegerType()),\n",
    "                     StructField('timestamp_started', TimestampType()),\n",
    "                     StructField('user_id', StringType()),\n",
    "                     StructField('event', StringType()),\n",
    "                     StructField('flyer_id', IntegerType()),\n",
    "                     StructField('merchant_id', IntegerType()),\n",
    "                     StructField('timestamp_ended', TimestampType())\n",
    "                    ]\n",
    "\n",
    ")"
   ]
  },
  {
   "cell_type": "code",
   "execution_count": 6,
   "metadata": {},
   "outputs": [],
   "source": [
    "# modified-retailer-dataset.csv file was placed in a local file system"
   ]
  },
  {
   "cell_type": "code",
   "execution_count": 7,
   "metadata": {},
   "outputs": [
    {
     "name": "stdout",
     "output_type": "stream",
     "text": [
      "total 5264\n",
      "-rw-r--r-- 1 itv000367 students 2379540 Sep 29 14:26 retailer-dataset.csv\n",
      "-rw-r--r-- 1 itv000367 students 3009509 Sep 30 21:37 modified-retailer-dataset.csv\n"
     ]
    }
   ],
   "source": [
    "%%sh\n",
    "ls -ltr /home/itv000367/kanth"
   ]
  },
  {
   "cell_type": "code",
   "execution_count": 39,
   "metadata": {},
   "outputs": [],
   "source": [
    "%%sh\n",
    "hadoop fs -mkdir /user/itv000367/kanth/lixar"
   ]
  },
  {
   "cell_type": "code",
   "execution_count": 8,
   "metadata": {},
   "outputs": [],
   "source": [
    "# copying modified-retailer-dataset.csv from local file system to hdfs"
   ]
  },
  {
   "cell_type": "code",
   "execution_count": 40,
   "metadata": {},
   "outputs": [],
   "source": [
    "%%sh\n",
    "hadoop fs -put /home/itv000367/kanth/modified-retailer-dataset.csv    /user/itv000367/kanth/lixar"
   ]
  },
  {
   "cell_type": "code",
   "execution_count": 9,
   "metadata": {},
   "outputs": [
    {
     "name": "stdout",
     "output_type": "stream",
     "text": [
      "Found 1 items\n",
      "-rw-r--r--   3 itv000367 supergroup    3009509 2021-09-30 21:47 /user/itv000367/kanth/lixar/modified-retailer-dataset.csv\n"
     ]
    }
   ],
   "source": [
    "%%sh\n",
    "hadoop fs -ls /user/itv000367/kanth/lixar"
   ]
  },
  {
   "cell_type": "code",
   "execution_count": 42,
   "metadata": {},
   "outputs": [
    {
     "name": "stdout",
     "output_type": "stream",
     "text": [
      "\n",
      "20716,2018-10-01 11:39:40-04:00,ffdf08cd49a42e94228752c5aceb91d1a12e47bc02a7a1cc9c659365a9bafd13,flyer_open,1968001,1344,2018-10-01 11:43:40-04:00\n",
      "20717,2018-10-01 11:34:20-04:00,ffdf08cd49a42e94228752c5aceb91d1a12e47bc02a7a1cc9c659365a9bafd13,flyer_open,2005338,2085,2018-10-01 11:40:20-04:00\n",
      "20718,2018-10-01 12:56:14-04:00,ffdf08cd49a42e94228752c5aceb91d1a12e47bc02a7a1cc9c659365a9bafd13,flyer_open,2016316,2268,2018-10-01 13:02:14-04:00\n",
      "20719,2018-10-01 10:36:49-04:00,ffdf08cd49a42e94228752c5aceb91d1a12e47bc02a7a1cc9c659365a9bafd13,flyer_open,2026010,2284,2018-10-01 10:42:49-04:00\n",
      "20720,2018-10-01 12:08:53-04:00,ffdf08cd49a42e94228752c5aceb91d1a12e47bc02a7a1cc9c659365a9bafd13,flyer_open,1996615,2366,2018-10-01 12:14:53-04:00\n",
      "20721,2018-10-01 11:40:05-04:00,ffdf08cd49a42e94228752c5aceb91d1a12e47bc02a7a1cc9c659365a9bafd13,shopping_list_open,,,2018-10-01 11:41:05-04:00\n",
      "20722,2018-10-01 13:26:34-04:00,ffdf08cd49a42e94228752c5aceb91d1a12e47bc02a7a1cc9c659365a9bafd13,shopping_list_open,,,2018-10-01 13:27:34-04:00\n"
     ]
    }
   ],
   "source": [
    "%%sh\n",
    "hadoop fs -tail /user/itv000367/kanth/lixar/modified-retailer-dataset.csv"
   ]
  },
  {
   "cell_type": "code",
   "execution_count": 10,
   "metadata": {},
   "outputs": [],
   "source": [
    "# read modified-retailer-dataset.csv using spark and create a dataframe\n",
    "retailDf = spark.read.format('csv') \\\n",
    "                .option('sep',',') \\\n",
    "                .option('header','True') \\\n",
    "                .schema(sch) \\\n",
    "                .load('/user/itv000367/kanth/lixar/modified-retailer-dataset.csv')"
   ]
  },
  {
   "cell_type": "code",
   "execution_count": 11,
   "metadata": {},
   "outputs": [
    {
     "name": "stdout",
     "output_type": "stream",
     "text": [
      "+-----+-------------------+--------------------+----------+--------+-----------+-------------------+\n",
      "|index|  timestamp_started|             user_id|     event|flyer_id|merchant_id|    timestamp_ended|\n",
      "+-----+-------------------+--------------------+----------+--------+-----------+-------------------+\n",
      "|    0|2018-10-01 11:36:30|0017345b89958a1d8...|flyer_open| 1996661|       2053|2018-10-01 11:42:30|\n",
      "|    1|2018-10-01 11:36:30|0017345b89958a1d8...|flyer_open| 2031166|       2148|2018-10-01 11:39:30|\n",
      "|    2|2018-10-01 11:36:06|0017345b89958a1d8...|flyer_open| 2016311|       2268|2018-10-01 11:39:06|\n",
      "|    3|2018-10-01 11:46:24|0017345b89958a1d8...|flyer_open| 2016316|       2268|2018-10-01 11:47:24|\n",
      "|    4|2018-10-01 11:41:14|0017345b89958a1d8...|flyer_open| 2005529|       2280|2018-10-01 11:49:14|\n",
      "|    5|2018-10-01 12:03:52|0017345b89958a1d8...|flyer_open| 2005529|       2280|2018-10-01 12:10:52|\n",
      "|    6|2018-10-01 11:42:00|0017345b89958a1d8...|flyer_open| 2009325|       2282|2018-10-01 11:47:00|\n",
      "|    7|2018-10-01 11:51:45|0017345b89958a1d8...|flyer_open| 2009325|       2282|2018-10-01 11:57:45|\n",
      "|    8|2018-10-01 11:41:46|0017345b89958a1d8...|flyer_open| 2009325|       2282|2018-10-01 11:48:46|\n",
      "|    9|2018-10-01 11:50:44|0017345b89958a1d8...|flyer_open| 2026010|       2284|2018-10-01 11:56:44|\n",
      "+-----+-------------------+--------------------+----------+--------+-----------+-------------------+\n",
      "only showing top 10 rows\n",
      "\n"
     ]
    }
   ],
   "source": [
    "retailDf.show(10)"
   ]
  },
  {
   "cell_type": "code",
   "execution_count": 12,
   "metadata": {},
   "outputs": [],
   "source": [
    "retailDf = retailDf.drop('index')"
   ]
  },
  {
   "cell_type": "code",
   "execution_count": 13,
   "metadata": {},
   "outputs": [
    {
     "name": "stdout",
     "output_type": "stream",
     "text": [
      "root\n",
      " |-- timestamp_started: timestamp (nullable = true)\n",
      " |-- user_id: string (nullable = true)\n",
      " |-- event: string (nullable = true)\n",
      " |-- flyer_id: integer (nullable = true)\n",
      " |-- merchant_id: integer (nullable = true)\n",
      " |-- timestamp_ended: timestamp (nullable = true)\n",
      "\n"
     ]
    }
   ],
   "source": [
    "retailDf.printSchema()"
   ]
  },
  {
   "cell_type": "code",
   "execution_count": 14,
   "metadata": {},
   "outputs": [
    {
     "data": {
      "text/plain": [
       "20723"
      ]
     },
     "execution_count": 14,
     "metadata": {},
     "output_type": "execute_result"
    }
   ],
   "source": [
    "retailDf.count()"
   ]
  },
  {
   "cell_type": "code",
   "execution_count": 15,
   "metadata": {},
   "outputs": [],
   "source": [
    "retailDf_modified = retailDf.filter(retailDf.flyer_id.isNotNull() & retailDf.merchant_id.isNotNull())"
   ]
  },
  {
   "cell_type": "code",
   "execution_count": 16,
   "metadata": {},
   "outputs": [
    {
     "data": {
      "text/plain": [
       "16169"
      ]
     },
     "execution_count": 16,
     "metadata": {},
     "output_type": "execute_result"
    }
   ],
   "source": [
    "retailDf_modified.count()"
   ]
  },
  {
   "cell_type": "code",
   "execution_count": 17,
   "metadata": {},
   "outputs": [],
   "source": [
    "retailDf_modified = retailDf_modified.select('user_id','merchant_id','flyer_id','event','timestamp_started','timestamp_ended')"
   ]
  },
  {
   "cell_type": "code",
   "execution_count": 19,
   "metadata": {},
   "outputs": [
    {
     "name": "stdout",
     "output_type": "stream",
     "text": [
      "+----------------------------------------------------------------+-----------+--------+----------+-------------------+-------------------+\n",
      "|user_id                                                         |merchant_id|flyer_id|event     |timestamp_started  |timestamp_ended    |\n",
      "+----------------------------------------------------------------+-----------+--------+----------+-------------------+-------------------+\n",
      "|0017345b89958a1d8cae79020dbbf6e2f687124ae8bf937fa6ed729e66a13f91|2053       |1996661 |flyer_open|2018-10-01 11:36:30|2018-10-01 11:42:30|\n",
      "|0017345b89958a1d8cae79020dbbf6e2f687124ae8bf937fa6ed729e66a13f91|2148       |2031166 |flyer_open|2018-10-01 11:36:30|2018-10-01 11:39:30|\n",
      "|0017345b89958a1d8cae79020dbbf6e2f687124ae8bf937fa6ed729e66a13f91|2268       |2016311 |flyer_open|2018-10-01 11:36:06|2018-10-01 11:39:06|\n",
      "|0017345b89958a1d8cae79020dbbf6e2f687124ae8bf937fa6ed729e66a13f91|2268       |2016316 |flyer_open|2018-10-01 11:46:24|2018-10-01 11:47:24|\n",
      "|0017345b89958a1d8cae79020dbbf6e2f687124ae8bf937fa6ed729e66a13f91|2280       |2005529 |flyer_open|2018-10-01 11:41:14|2018-10-01 11:49:14|\n",
      "+----------------------------------------------------------------+-----------+--------+----------+-------------------+-------------------+\n",
      "only showing top 5 rows\n",
      "\n"
     ]
    }
   ],
   "source": [
    "retailDf_modified.show(5,truncate=False)"
   ]
  },
  {
   "cell_type": "code",
   "execution_count": 20,
   "metadata": {},
   "outputs": [],
   "source": [
    "from pyspark.sql.functions import to_timestamp,col, round\n",
    "from pyspark.sql.types import LongType"
   ]
  },
  {
   "cell_type": "code",
   "execution_count": 21,
   "metadata": {},
   "outputs": [],
   "source": [
    "# dataframe modified to include time difference between started and ended timestamp for a given event\n",
    "retailDf_modified = retailDf_modified.withColumn('event_time_min',round(col('timestamp_ended').cast(LongType())/60 - col('timestamp_started').cast(LongType())/60,2))"
   ]
  },
  {
   "cell_type": "code",
   "execution_count": 22,
   "metadata": {},
   "outputs": [
    {
     "name": "stdout",
     "output_type": "stream",
     "text": [
      "+--------------------+-----------+--------+----------+-------------------+-------------------+--------------+\n",
      "|             user_id|merchant_id|flyer_id|     event|  timestamp_started|    timestamp_ended|event_time_min|\n",
      "+--------------------+-----------+--------+----------+-------------------+-------------------+--------------+\n",
      "|0017345b89958a1d8...|       2053| 1996661|flyer_open|2018-10-01 11:36:30|2018-10-01 11:42:30|           6.0|\n",
      "|0017345b89958a1d8...|       2148| 2031166|flyer_open|2018-10-01 11:36:30|2018-10-01 11:39:30|           3.0|\n",
      "|0017345b89958a1d8...|       2268| 2016311|flyer_open|2018-10-01 11:36:06|2018-10-01 11:39:06|           3.0|\n",
      "|0017345b89958a1d8...|       2268| 2016316|flyer_open|2018-10-01 11:46:24|2018-10-01 11:47:24|           1.0|\n",
      "|0017345b89958a1d8...|       2280| 2005529|flyer_open|2018-10-01 11:41:14|2018-10-01 11:49:14|           8.0|\n",
      "|0017345b89958a1d8...|       2280| 2005529|flyer_open|2018-10-01 12:03:52|2018-10-01 12:10:52|           7.0|\n",
      "|0017345b89958a1d8...|       2282| 2009325|flyer_open|2018-10-01 11:42:00|2018-10-01 11:47:00|           5.0|\n",
      "|0017345b89958a1d8...|       2282| 2009325|flyer_open|2018-10-01 11:51:45|2018-10-01 11:57:45|           6.0|\n",
      "|0017345b89958a1d8...|       2282| 2009325|flyer_open|2018-10-01 11:41:46|2018-10-01 11:48:46|           7.0|\n",
      "|0017345b89958a1d8...|       2284| 2026010|flyer_open|2018-10-01 11:50:44|2018-10-01 11:56:44|           6.0|\n",
      "|0017345b89958a1d8...|       2353| 2008626|flyer_open|2018-10-01 11:36:05|2018-10-01 11:39:05|           3.0|\n",
      "|0017345b89958a1d8...|       2366| 1983481|flyer_open|2018-10-01 11:36:26|2018-10-01 11:43:26|           7.0|\n",
      "|0017345b89958a1d8...|       2428| 2000818|flyer_open|2018-10-01 11:34:20|2018-10-01 11:42:20|           8.0|\n",
      "|0017345b89958a1d8...|       2464| 2026295|flyer_open|2018-10-01 11:36:26|2018-10-01 11:38:26|           2.0|\n",
      "|0017345b89958a1d8...|       2608| 1994646|flyer_open|2018-10-01 11:36:04|2018-10-01 11:42:04|           6.0|\n",
      "|0017345b89958a1d8...|       2681| 1989605| item_open|2018-10-01 11:36:05|2018-10-01 11:42:05|           6.0|\n",
      "|0017345b89958a1d8...|       3436| 1985618|flyer_open|2018-10-01 11:36:54|2018-10-01 11:37:54|           1.0|\n",
      "|0017345b89958a1d8...|       3554| 2000648| item_open|2018-10-01 11:30:48|2018-10-01 11:37:48|           7.0|\n",
      "|0017345b89958a1d8...|       3669| 1990201|flyer_open|2018-10-01 11:36:31|2018-10-01 11:43:31|           7.0|\n",
      "|0017345b89958a1d8...|       4663| 1995030|flyer_open|2018-10-01 11:36:41|2018-10-01 11:43:41|           7.0|\n",
      "|0017345b89958a1d8...|       5192| 2022625|flyer_open|2018-10-01 11:52:04|2018-10-01 11:57:04|           5.0|\n",
      "|0017345b89958a1d8...|        986| 1994508|flyer_open|2018-10-01 11:36:55|2018-10-01 11:40:55|           4.0|\n",
      "|0017345b89958a1d8...|        986| 1994508|flyer_open|2018-10-01 11:36:25|2018-10-01 11:37:25|           1.0|\n",
      "|002c17c9db976a1ca...|       2053| 1996683|flyer_open|2018-10-01 11:54:13|2018-10-01 12:02:13|           8.0|\n",
      "|002c17c9db976a1ca...|       2156| 2005246|flyer_open|2018-10-01 06:38:14|2018-10-01 06:39:14|           1.0|\n",
      "|002c17c9db976a1ca...|       2354| 2006609|flyer_open|2018-10-01 11:26:49|2018-10-01 11:31:49|           5.0|\n",
      "|002c17c9db976a1ca...|       2455| 2029202|flyer_open|2018-10-01 10:56:11|2018-10-01 10:58:11|           2.0|\n",
      "|002c17c9db976a1ca...|        246| 2019160|flyer_open|2018-10-01 11:36:21|2018-10-01 11:39:21|           3.0|\n",
      "|002c17c9db976a1ca...|        250| 1989683|flyer_open|2018-10-01 09:38:31|2018-10-01 09:39:31|           1.0|\n",
      "|002c17c9db976a1ca...|       2609| 2016436|flyer_open|2018-10-01 11:36:10|2018-10-01 11:43:10|           7.0|\n",
      "+--------------------+-----------+--------+----------+-------------------+-------------------+--------------+\n",
      "only showing top 30 rows\n",
      "\n"
     ]
    }
   ],
   "source": [
    "retailDf_modified.show(30)"
   ]
  },
  {
   "cell_type": "code",
   "execution_count": 23,
   "metadata": {},
   "outputs": [],
   "source": [
    "from pyspark.sql.functions import avg"
   ]
  },
  {
   "cell_type": "code",
   "execution_count": 24,
   "metadata": {},
   "outputs": [],
   "source": [
    "# finding average time spent by a user for each merchant flyer\n",
    "retailDf_avgTimeSpent = retailDf_modified.groupBy('user_id','merchant_id') \\\n",
    "                                            .agg(round(avg('event_time_min'),2).alias('avg_time_min'))"
   ]
  },
  {
   "cell_type": "code",
   "execution_count": 25,
   "metadata": {},
   "outputs": [],
   "source": [
    "retailDf_avgTimeSpent_sorted = retailDf_avgTimeSpent.sort('merchant_id',ascending=1)"
   ]
  },
  {
   "cell_type": "code",
   "execution_count": 26,
   "metadata": {},
   "outputs": [
    {
     "name": "stdout",
     "output_type": "stream",
     "text": [
      "+----------------------------------------------------------------+-----------+------------+\n",
      "|user_id                                                         |merchant_id|avg_time_min|\n",
      "+----------------------------------------------------------------+-----------+------------+\n",
      "|fef9bdac8e1a7449e860ec25aff07548698bbb431b77e3067289783e44c086fe|221        |6.0         |\n",
      "|e41d6b6a9fa5b54184709061ae4881f652bf174a17820e7b604c3491f26c43ed|221        |4.0         |\n",
      "|523e314c60326645ce2fe6c7fe615bd1abeaf2aea17b26d5965c9e6350481779|221        |4.0         |\n",
      "|986954873eb6d2af7482444d1d50387fd8eab6ce17e908b5977140569a6b82e0|221        |2.0         |\n",
      "|c013196f6668a03e18f7c18a72d8b6cb66117b913fbf42ce471a5ac99ef9c365|221        |9.0         |\n",
      "|deb5d2ab528f042676588c6dca31919dd28e0949711414911790607a88796a4a|221        |8.0         |\n",
      "|74362cf31062b95a3116604d55b6395ff05e8ec5a588329db53d1cd19d2825fd|221        |7.0         |\n",
      "|0f7683b5e677736d9e82077f7e9f6ed6bd83873f47d51faa14e08126b6f60baf|221        |3.0         |\n",
      "|856a9bd439c1c8a827bdb77ce14db2603970e2755501fa3400f014a2d876a09a|221        |2.0         |\n",
      "|faaa186511a7fed82c031c9b66599bf50eb764f44957fe15a75dd39e4c7ab9ee|221        |4.0         |\n",
      "|ef59ab388216737f944fd80ca7e815419dc6fcdc2498885d262bdc457735d318|221        |1.0         |\n",
      "|e5089c58fbde325c2cde5aedf4f2196085d066419ad44ad451a6aa7ae363f2f5|221        |7.0         |\n",
      "|890229a3799b1493249b8f96038c707986323413b6c32b2c569ee6284a87b234|221        |7.0         |\n",
      "|898d4d2f9fda029bf37b85850824f21d6204d3d3b8ab5b04dcc0d002f64c5725|221        |1.67        |\n",
      "|598e25b4d636e88995ae54ed27da92298945b002859c83cd09ca17614159791a|221        |6.0         |\n",
      "|71e01a216fd6d973c82dbd0023733adfa82887a5193d1a6329af176cb2626626|221        |6.0         |\n",
      "|9fc52226c02bb49e3805509234298f1017e48c95282f8900031a2f52b71d4399|221        |4.0         |\n",
      "|8bd6bf3333ca32681ed25153be5af0a85459d3c7eab8c7b8d6807e8941f52da5|221        |5.5         |\n",
      "|0d4827cbd39f2e86f15151ef92c8e92ed7ce84ae45a36db4df56580dd3f2e6ec|221        |3.0         |\n",
      "|7847310bd6bb41ab09ad27389b36511071bca3c4a9d7f33b5cf2bf013cbc1d48|221        |4.0         |\n",
      "+----------------------------------------------------------------+-----------+------------+\n",
      "only showing top 20 rows\n",
      "\n"
     ]
    }
   ],
   "source": [
    "retailDf_avgTimeSpent_sorted.show(truncate=False)"
   ]
  },
  {
   "cell_type": "code",
   "execution_count": 27,
   "metadata": {},
   "outputs": [
    {
     "data": {
      "text/plain": [
       "11819"
      ]
     },
     "execution_count": 27,
     "metadata": {},
     "output_type": "execute_result"
    }
   ],
   "source": [
    "retailDf_avgTimeSpent_sorted.count()"
   ]
  },
  {
   "cell_type": "code",
   "execution_count": 60,
   "metadata": {},
   "outputs": [],
   "source": [
    "spark.conf.set('spark.sql.shuffle.partitions',1)"
   ]
  },
  {
   "cell_type": "code",
   "execution_count": 63,
   "metadata": {},
   "outputs": [],
   "source": [
    "retailDf_avgTimeSpent_sorted.write.csv('/user/itv000367/kanth/lixar/results/')"
   ]
  },
  {
   "cell_type": "code",
   "execution_count": 68,
   "metadata": {},
   "outputs": [],
   "source": [
    "%%sh\n",
    "hadoop fs -copyToLocal /user/itv000367/kanth/lixar/results/part-00000-2e3ec2c2-3a3d-4f45-baa3-cf02c6efe3e1-c000.csv     /home/itv000367/kanth/avgTime-perUser-perMerchant.csv"
   ]
  },
  {
   "cell_type": "code",
   "execution_count": 28,
   "metadata": {},
   "outputs": [],
   "source": [
    "# finding average time spent by a user for each flyer_id by its merchant\n",
    "retailDf_avgTimeSpent_perFlyer = retailDf_modified.groupBy('user_id','merchant_id','flyer_id') \\\n",
    "                                            .agg(round(avg('event_time_min'),2).alias('avg_time_min'))"
   ]
  },
  {
   "cell_type": "code",
   "execution_count": 29,
   "metadata": {},
   "outputs": [],
   "source": [
    "retailDf_avgTimeSpent_perFlyer_sorted = retailDf_avgTimeSpent_perFlyer.sort(['merchant_id','flyer_id'],ascending=[1,1])"
   ]
  },
  {
   "cell_type": "code",
   "execution_count": 30,
   "metadata": {},
   "outputs": [
    {
     "name": "stdout",
     "output_type": "stream",
     "text": [
      "+----------------------------------------------------------------+-----------+--------+------------+\n",
      "|user_id                                                         |merchant_id|flyer_id|avg_time_min|\n",
      "+----------------------------------------------------------------+-----------+--------+------------+\n",
      "|b38f97880ccb69e8f89201eedbccc149a9ea914ca86111340a9b1d9de1788a01|221        |1994952 |6.0         |\n",
      "|797161021befeecfc6efa624f302a6a314a93515eae1d99168d5f87758535947|221        |1994952 |1.0         |\n",
      "|13b968027c223421411987b5e9343c06bd21986e4d519d2d41ceee33d7f0cb01|221        |1994953 |9.0         |\n",
      "|97e27e751eb093d1650f1c88be27c2e1642fed6dfe66016b82740d658fb95a18|221        |1994953 |4.0         |\n",
      "|840f1b021181b43ca0641303390d323cdd0418a1afb5a16e31cca94c391773f5|221        |1994953 |5.0         |\n",
      "|550cf383001101d860e9bd93eae9ed990a6ca621411dba47391d8a9eae80493e|221        |1994953 |7.0         |\n",
      "|d452a27cf5d924ee3409a6ad3a294f5eb74fdc1d49fffd61ca3f82d89c19ef9c|221        |1994953 |7.0         |\n",
      "|b38f97880ccb69e8f89201eedbccc149a9ea914ca86111340a9b1d9de1788a01|221        |1994953 |5.0         |\n",
      "|228b6edeb725750df24412d509aafac9d71cbef75380dd03ec12f113a9ef1d4c|221        |1994953 |9.0         |\n",
      "|056ccc0e6e0230628e25e89260b7817794461e5eaac8a6b56b48d34f0f59183f|221        |1994953 |2.5         |\n",
      "|10e77342a277861ba7cb976eae7c0ed57c40802294df6688a05a5330cf9b7f74|221        |1994953 |6.0         |\n",
      "|8bd6bf3333ca32681ed25153be5af0a85459d3c7eab8c7b8d6807e8941f52da5|221        |1994953 |5.5         |\n",
      "|b6c78cb49913ce2b317136ca4e02d602f45566c1eda1f489723d6f5c5d111413|221        |1994953 |6.0         |\n",
      "|3d53a34d5144644cd17da535b8709bf534ee9f8c14ca3b75d7199b54a29315b1|221        |1994953 |4.0         |\n",
      "|c013196f6668a03e18f7c18a72d8b6cb66117b913fbf42ce471a5ac99ef9c365|221        |1994954 |9.0         |\n",
      "|675cf76fb14db8a2f9b8a9458a2868f354ed1e17a640830d0caa08be2d307ea2|221        |1994954 |2.0         |\n",
      "|689b8c287b0e73ac6cdebb5361b8c0b9d58c653152893955b6c3114f5926381d|221        |1994954 |7.0         |\n",
      "|b38f97880ccb69e8f89201eedbccc149a9ea914ca86111340a9b1d9de1788a01|221        |1994954 |3.0         |\n",
      "|45944d0156f1468b38ed630b500d7ed256e73d95dec9868ef73654c015e472ae|221        |1994955 |9.0         |\n",
      "|366a50d20f5afdb90514c1ff50c0dfcf158007b9e2e582d7a4a8e408b9fd4bd2|221        |1994955 |1.0         |\n",
      "+----------------------------------------------------------------+-----------+--------+------------+\n",
      "only showing top 20 rows\n",
      "\n"
     ]
    }
   ],
   "source": [
    "retailDf_avgTimeSpent_perFlyer_sorted.show(truncate=False)"
   ]
  },
  {
   "cell_type": "code",
   "execution_count": 31,
   "metadata": {},
   "outputs": [
    {
     "data": {
      "text/plain": [
       "13684"
      ]
     },
     "execution_count": 31,
     "metadata": {},
     "output_type": "execute_result"
    }
   ],
   "source": [
    "retailDf_avgTimeSpent_perFlyer_sorted.count()"
   ]
  },
  {
   "cell_type": "code",
   "execution_count": 73,
   "metadata": {},
   "outputs": [],
   "source": [
    "retailDf_avgTimeSpent_perFlyer_sorted.write.csv('/user/itv000367/kanth/lixar/results1/')"
   ]
  },
  {
   "cell_type": "code",
   "execution_count": 74,
   "metadata": {},
   "outputs": [
    {
     "name": "stdout",
     "output_type": "stream",
     "text": [
      "Found 2 items\n",
      "-rw-r--r--   3 itv000367 supergroup          0 2021-10-01 09:26 /user/itv000367/kanth/lixar/results1/_SUCCESS\n",
      "-rw-r--r--   3 itv000367 supergroup    1120230 2021-10-01 09:26 /user/itv000367/kanth/lixar/results1/part-00000-b079bbd0-3ed6-43c7-8095-ad0f2e950065-c000.csv\n"
     ]
    }
   ],
   "source": [
    "%%sh\n",
    "hadoop fs -ls /user/itv000367/kanth/lixar/results1"
   ]
  },
  {
   "cell_type": "code",
   "execution_count": 75,
   "metadata": {},
   "outputs": [],
   "source": [
    "%%sh\n",
    "hadoop fs -copyToLocal /user/itv000367/kanth/lixar/results1/part-00000-b079bbd0-3ed6-43c7-8095-ad0f2e950065-c000.csv     /home/itv000367/kanth/avgTime-perUser-perMerchant-perFlyer.csv"
   ]
  },
  {
   "cell_type": "code",
   "execution_count": 32,
   "metadata": {},
   "outputs": [],
   "source": [
    "# finding average time spent by a user on flyers\n",
    "retailDf_avgTimeSpent_byUser = retailDf_modified.groupBy('user_id') \\\n",
    "                                            .agg(round(avg('event_time_min'),2).alias('avg_time_min'))"
   ]
  },
  {
   "cell_type": "code",
   "execution_count": 33,
   "metadata": {},
   "outputs": [],
   "source": [
    "retailDf_avgTimeSpent_byUser_sorted = retailDf_avgTimeSpent_byUser.sort('avg_time_min',ascending=0)"
   ]
  },
  {
   "cell_type": "code",
   "execution_count": 36,
   "metadata": {},
   "outputs": [
    {
     "name": "stdout",
     "output_type": "stream",
     "text": [
      "+----------------------------------------------------------------+------------+\n",
      "|user_id                                                         |avg_time_min|\n",
      "+----------------------------------------------------------------+------------+\n",
      "|f010739ef41caf432ded2652ea109624065c8a80ca704c3d16fa6a0a48453748|9.0         |\n",
      "|1177d6bc22b5c5c5a14d5a5f9419915ba1709a65f809309a57a7e5318d6629b8|9.0         |\n",
      "|2555069cad0e48eafb80c59cc51c652cf10eba9feb9d46e1b234ebfc126249be|9.0         |\n",
      "|047932250bc4de35f4be96587466e5cd3dfb25e543ba0fb3dd7517593329131e|9.0         |\n",
      "|80744674a332ddd29e199cced12979857bbd1af49757821b8396aee1dacdd7d2|9.0         |\n",
      "|c1fac3bddae0ee665d4f17900d7025fe09b637d82123ed3140aaadb3d4408515|9.0         |\n",
      "|ac71141432e7087df2149275aa4786a5641b1c93fcf5ebd63f70ed136eb7bc1b|9.0         |\n",
      "|6fd7d6ec0c94b7f9486bcb5863368af360fba38af65d2c4483cc0012f7f01101|9.0         |\n",
      "|ecbb409adf79b755fe2add6dca11a1af00352de4d6e6fcb96db5cb1588bd277f|9.0         |\n",
      "|cdd408976b110beea7f721d925ef35038966c7161a723a9a083877e49734a96a|9.0         |\n",
      "|069717cc710366bc25c781f5e5660d980d9786fb1cfb9412c9f9bbb0bdac2515|9.0         |\n",
      "|802b60333ee0b9dd5d2d1ecd5f8d0ae055e09bbe2ec5bdc21d371f741fa70b68|9.0         |\n",
      "|0c1cabcad9f6d0c5e061eb1ade3327d020e4ed5870df240c4473a2e833e28258|9.0         |\n",
      "|00dbcd0f49522e8614a0e363293b2a371f4083919b5d276524ce7d985970f3de|9.0         |\n",
      "|77410ad5eb1bbd24575ceff28e9c4e85d68f234dfa64d6a29087038615a06d93|9.0         |\n",
      "|482dc1fa2e6677c11172561da860983cdc519c9f95c35c66c3fe8f6162b94032|9.0         |\n",
      "|ca3fb3b9b66e88823ea5875538f26abe029695013b5de428e4dfad86eb58db31|9.0         |\n",
      "|0234e7b79d0c78486d6f5158eff1ae12a695de901566a353f8ca44833f59f1be|8.5         |\n",
      "|6f5075db5201bb6399f90a82573c096db0a4d5e044eb753a93607b55c90443b9|8.5         |\n",
      "|ce0dedb2415b59c3862e3d72a4d15df82b1f2907c0d6ff6b29fab73ee172b45f|8.5         |\n",
      "+----------------------------------------------------------------+------------+\n",
      "only showing top 20 rows\n",
      "\n"
     ]
    }
   ],
   "source": [
    "retailDf_avgTimeSpent_byUser_sorted.show(truncate=False)"
   ]
  },
  {
   "cell_type": "code",
   "execution_count": 37,
   "metadata": {},
   "outputs": [
    {
     "data": {
      "text/plain": [
       "1161"
      ]
     },
     "execution_count": 37,
     "metadata": {},
     "output_type": "execute_result"
    }
   ],
   "source": [
    "retailDf_avgTimeSpent_byUser_sorted.count()"
   ]
  },
  {
   "cell_type": "code",
   "execution_count": 82,
   "metadata": {},
   "outputs": [],
   "source": [
    "retailDf_avgTimeSpent_byUser_sorted.write.csv('/user/itv000367/kanth/lixar/results2/')"
   ]
  },
  {
   "cell_type": "code",
   "execution_count": 83,
   "metadata": {},
   "outputs": [
    {
     "name": "stdout",
     "output_type": "stream",
     "text": [
      "Found 2 items\n",
      "-rw-r--r--   3 itv000367 supergroup          0 2021-10-01 09:34 /user/itv000367/kanth/lixar/results2/_SUCCESS\n",
      "-rw-r--r--   3 itv000367 supergroup      80738 2021-10-01 09:34 /user/itv000367/kanth/lixar/results2/part-00000-592a6c49-63c2-4f00-b71c-c66b9d6977a9-c000.csv\n"
     ]
    }
   ],
   "source": [
    "%%sh\n",
    "hadoop fs -ls /user/itv000367/kanth/lixar/results2"
   ]
  },
  {
   "cell_type": "code",
   "execution_count": 85,
   "metadata": {},
   "outputs": [],
   "source": [
    "%%sh\n",
    "hadoop fs -copyToLocal /user/itv000367/kanth/lixar/results2/part-00000-592a6c49-63c2-4f00-b71c-c66b9d6977a9-c000.csv     /home/itv000367/kanth/avgTime-perUser-perFlyer.csv"
   ]
  },
  {
   "cell_type": "code",
   "execution_count": null,
   "metadata": {},
   "outputs": [],
   "source": []
  }
 ],
 "metadata": {
  "kernelspec": {
   "display_name": "Python 3",
   "language": "python",
   "name": "python3"
  },
  "language_info": {
   "codemirror_mode": {
    "name": "ipython",
    "version": 3
   },
   "file_extension": ".py",
   "mimetype": "text/x-python",
   "name": "python",
   "nbconvert_exporter": "python",
   "pygments_lexer": "ipython3",
   "version": "3.7.4"
  }
 },
 "nbformat": 4,
 "nbformat_minor": 5
}
